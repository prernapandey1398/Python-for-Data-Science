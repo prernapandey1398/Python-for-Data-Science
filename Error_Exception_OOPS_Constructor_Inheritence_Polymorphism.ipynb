{
 "cells": [
  {
   "cell_type": "markdown",
   "metadata": {},
   "source": [
    "#####  Note : - In python there are some modules or libraries not present. In this condition we have to import library."
   ]
  },
  {
   "cell_type": "markdown",
   "metadata": {},
   "source": [
    "+ By two way\n",
    "+ 1. !pip install module_name or library_name\n",
    "+ 2. by using anaconda prompt but in that ! not adding"
   ]
  },
  {
   "cell_type": "markdown",
   "metadata": {},
   "source": [
    "##### Error & Exception"
   ]
  },
  {
   "cell_type": "markdown",
   "metadata": {},
   "source": [
    "+ Error is the outcome which we will get, after the  execution of the code but the outcome is not      acceptable according to our requirement.\n",
    "+ Exception happen during execution of a program.    When the error occurs python generate an exception that can be handle which avoids our program to crash"
   ]
  },
  {
   "cell_type": "markdown",
   "metadata": {},
   "source": [
    "# Why we use an exception \n",
    "+ 1. Exceptions are convenient in many ways for handling errors and special condition in a program.\n",
    "+ 2. When we think we have a code which can produce an error then we can use exception handling"
   ]
  },
  {
   "cell_type": "markdown",
   "metadata": {},
   "source": [
    "##### Types of Exception error....\n",
    "+ 1.IO error ## IO - InputOutput\n",
    "  + IO error is the input output error this error  raised only when if the file can not be open.\n",
    "+ 2.Import error\n",
    "  + Import error can be possible only when if we are unable to import module. If python can not find imported module\n",
    "+ 3.Value error\n",
    "  + It is the error raised when a built in function or operation receives an argument that has the right type but inappropriate value\n",
    "+ 4.Keyboard interrupt error\n",
    "  + This type of error raised when the user or coder hits the interruption key\n",
    "+ 5.EoF error\n",
    "  + EOF stands for End of File error. It raised when one of the built in function hits an eof condition without reading any data."
   ]
  },
  {
   "cell_type": "code",
   "execution_count": 1,
   "metadata": {},
   "outputs": [
    {
     "ename": "FileNotFoundError",
     "evalue": "[Errno 2] No such file or directory: 'C:\\\\Users\\\\Prerna&1398\\\\Desktop\\\\edubridge\\\\New folder\\\\data.txt'",
     "output_type": "error",
     "traceback": [
      "\u001b[1;31m---------------------------------------------------------------------------\u001b[0m",
      "\u001b[1;31mFileNotFoundError\u001b[0m                         Traceback (most recent call last)",
      "\u001b[1;32m<ipython-input-1-ae51be2558e0>\u001b[0m in \u001b[0;36m<module>\u001b[1;34m\u001b[0m\n\u001b[0;32m      1\u001b[0m \u001b[1;31m### 1. IO output\u001b[0m\u001b[1;33m\u001b[0m\u001b[1;33m\u001b[0m\u001b[1;33m\u001b[0m\u001b[0m\n\u001b[1;32m----> 2\u001b[1;33m \u001b[0mfile\u001b[0m \u001b[1;33m=\u001b[0m \u001b[0mopen\u001b[0m\u001b[1;33m(\u001b[0m\u001b[1;34m\"C:\\\\Users\\\\Prerna&1398\\\\Desktop\\\\edubridge\\\\New folder\\\\data.txt\"\u001b[0m\u001b[1;33m)\u001b[0m\u001b[1;33m\u001b[0m\u001b[1;33m\u001b[0m\u001b[0m\n\u001b[0m\u001b[0;32m      3\u001b[0m \u001b[0mk\u001b[0m \u001b[1;33m=\u001b[0m \u001b[0mfile\u001b[0m\u001b[1;33m.\u001b[0m\u001b[0mread\u001b[0m\u001b[1;33m(\u001b[0m\u001b[1;33m)\u001b[0m\u001b[1;33m\u001b[0m\u001b[1;33m\u001b[0m\u001b[0m\n\u001b[0;32m      4\u001b[0m \u001b[0mprint\u001b[0m\u001b[1;33m(\u001b[0m\u001b[0mk\u001b[0m\u001b[1;33m)\u001b[0m\u001b[1;33m\u001b[0m\u001b[1;33m\u001b[0m\u001b[0m\n",
      "\u001b[1;31mFileNotFoundError\u001b[0m: [Errno 2] No such file or directory: 'C:\\\\Users\\\\Prerna&1398\\\\Desktop\\\\edubridge\\\\New folder\\\\data.txt'"
     ]
    }
   ],
   "source": [
    "### 1. IO output\n",
    "file = open(\"C:\\\\Users\\\\Prerna&1398\\\\Desktop\\\\edubridge\\\\New folder\\\\data.txt\")\n",
    "k = file.read()\n",
    "print(k)"
   ]
  },
  {
   "cell_type": "markdown",
   "metadata": {},
   "source": [
    "+ So above code is Input Output error"
   ]
  },
  {
   "cell_type": "code",
   "execution_count": 3,
   "metadata": {},
   "outputs": [
    {
     "ename": "ModuleNotFoundError",
     "evalue": "No module named 'tensorflow'",
     "output_type": "error",
     "traceback": [
      "\u001b[1;31m---------------------------------------------------------------------------\u001b[0m",
      "\u001b[1;31mModuleNotFoundError\u001b[0m                       Traceback (most recent call last)",
      "\u001b[1;32m<ipython-input-3-64156d691fe5>\u001b[0m in \u001b[0;36m<module>\u001b[1;34m\u001b[0m\n\u001b[1;32m----> 1\u001b[1;33m \u001b[1;32mimport\u001b[0m \u001b[0mtensorflow\u001b[0m \u001b[1;32mas\u001b[0m \u001b[0mtf\u001b[0m\u001b[1;33m\u001b[0m\u001b[1;33m\u001b[0m\u001b[0m\n\u001b[0m",
      "\u001b[1;31mModuleNotFoundError\u001b[0m: No module named 'tensorflow'"
     ]
    }
   ],
   "source": [
    "import tensorflow as tf"
   ]
  },
  {
   "cell_type": "markdown",
   "metadata": {},
   "source": [
    "+ above error is import error as we have not imported error"
   ]
  },
  {
   "cell_type": "code",
   "execution_count": 4,
   "metadata": {},
   "outputs": [
    {
     "ename": "ValueError",
     "evalue": "math domain error",
     "output_type": "error",
     "traceback": [
      "\u001b[1;31m---------------------------------------------------------------------------\u001b[0m",
      "\u001b[1;31mValueError\u001b[0m                                Traceback (most recent call last)",
      "\u001b[1;32m<ipython-input-4-2fb9850f5922>\u001b[0m in \u001b[0;36m<module>\u001b[1;34m\u001b[0m\n\u001b[0;32m      1\u001b[0m \u001b[1;32mimport\u001b[0m \u001b[0mmath\u001b[0m \u001b[1;32mas\u001b[0m \u001b[0mm\u001b[0m\u001b[1;33m\u001b[0m\u001b[1;33m\u001b[0m\u001b[0m\n\u001b[1;32m----> 2\u001b[1;33m \u001b[0mm\u001b[0m\u001b[1;33m.\u001b[0m\u001b[0msqrt\u001b[0m\u001b[1;33m(\u001b[0m\u001b[1;33m-\u001b[0m\u001b[1;36m20\u001b[0m\u001b[1;33m)\u001b[0m\u001b[1;33m\u001b[0m\u001b[1;33m\u001b[0m\u001b[0m\n\u001b[0m",
      "\u001b[1;31mValueError\u001b[0m: math domain error"
     ]
    }
   ],
   "source": [
    "import math as m\n",
    "m.sqrt(-20)"
   ]
  },
  {
   "cell_type": "markdown",
   "metadata": {},
   "source": [
    "+ above code i.e. this is value error as we have passing correct but value is not correct"
   ]
  },
  {
   "cell_type": "code",
   "execution_count": 7,
   "metadata": {},
   "outputs": [
    {
     "name": "stdout",
     "output_type": "stream",
     "text": [
      "[Errno 2] No such file or directory: 'new.txt'\n",
      "C:\\ProgramData\\Anaconda3\n"
     ]
    }
   ],
   "source": [
    "import sys # import system\n",
    "def how():\n",
    "    try:\n",
    "        f= open('new.txt','r')\n",
    "    except IOError as e :\n",
    "        print(e)\n",
    "        print (sys.exec_prefix)\n",
    "\n",
    "how()"
   ]
  },
  {
   "cell_type": "code",
   "execution_count": 9,
   "metadata": {},
   "outputs": [
    {
     "name": "stdout",
     "output_type": "stream",
     "text": [
      "Please enter a positive number:\n",
      "-20\n",
      "You entered -20, which is not a positive number.\n"
     ]
    }
   ],
   "source": [
    "import math\n",
    "\n",
    "x = int(input('Please enter a positive number:\\n'))\n",
    "\n",
    "try:\n",
    "    print(f'Square Root of {x} is {math.sqrt(x)}')\n",
    "except ValueError as ve:\n",
    "    print(f'You entered {x}, which is not a positive number.')\n"
   ]
  },
  {
   "cell_type": "markdown",
   "metadata": {},
   "source": [
    "+ above is value error"
   ]
  },
  {
   "cell_type": "code",
   "execution_count": 10,
   "metadata": {},
   "outputs": [
    {
     "name": "stdout",
     "output_type": "stream",
     "text": [
      "Heavy task!\n",
      "Heavy task!\n",
      "Heavy task!\n",
      "Heavy task!\n",
      "Heavy task!\n",
      "Heavy task!\n",
      "Heavy task!\n",
      "Heavy task!\n",
      "Heavy task!\n",
      "Heavy task!\n",
      "Heavy task!\n",
      "KeyboardInterrupt has been caught.\n"
     ]
    }
   ],
   "source": [
    "#Keyboard error: it is caused by the user once try to interrupt the executed code\n",
    "#import signal\n",
    "#import sys\n",
    "import time\n",
    "try:\n",
    "    while True:\n",
    "        print(\"Heavy task!\")\n",
    "        time.sleep(4)\n",
    "except KeyboardInterrupt:\n",
    "    print(\"KeyboardInterrupt has been caught.\")\n"
   ]
  },
  {
   "cell_type": "markdown",
   "metadata": {},
   "source": [
    "+ Above code is Keyboard interrupt error so basically by interrupt its break"
   ]
  },
  {
   "cell_type": "code",
   "execution_count": 12,
   "metadata": {},
   "outputs": [
    {
     "name": "stdout",
     "output_type": "stream",
     "text": [
      "Do you want to continue?: y\n",
      "\n"
     ]
    }
   ],
   "source": [
    "## EOF\n",
    "#try and except blocks are used to catch the exception\n",
    "try:\n",
    "    data = input (\"Do you want to continue?: \")\n",
    "except EOFError:\n",
    "    print (\"Error: No input or End Of File is reached!\")\n",
    "data = \"\"\n",
    "print (data)\n"
   ]
  },
  {
   "cell_type": "markdown",
   "metadata": {},
   "source": [
    "##### OOPS\n",
    "+ Python is object oriented programming language."
   ]
  },
  {
   "cell_type": "markdown",
   "metadata": {},
   "source": [
    "#####  Major Principal of OOPS\n",
    "+ 1. Object\n",
    "     + It is a real world entity.\n",
    "     + It is a collection of data, variable and method.\n",
    "     + It has state and behaviour, it maybe anything either physical or logical.\n",
    "     + Everything in python is an object and almost every object has attribute and method.\n",
    "+ 2. Class\n",
    "     + It is a blue print of the object, like a structure or prototype.\n",
    "     + It is defined as a collection of object.\n",
    "     + It is the logical entity that has some specific attribut and method.\n",
    "     + Example : Student is a class. Student id, student_rollNum are the attributes\n",
    "     + Class can be defined using class keyword"
   ]
  },
  {
   "cell_type": "code",
   "execution_count": 16,
   "metadata": {},
   "outputs": [
    {
     "name": "stdout",
     "output_type": "stream",
     "text": [
      "Employee Name is:  Prerna\n",
      "Salary of Employee is:  500000\n",
      "Employee Name is:  Pandey\n",
      "Salary of Employee is:  600000\n",
      "Total number of employee is :  2\n"
     ]
    }
   ],
   "source": [
    "class employee:\n",
    "    empcount =0\n",
    "    def __init__(self,name,salary):\n",
    "        self.name = name\n",
    "        self.salary = salary\n",
    "        employee.empcount += 1\n",
    "    def display(self):\n",
    "        print('Total number of employee is : ',employee.empcount)\n",
    "        \n",
    "    def displayemployee(self):\n",
    "        print('Employee Name is: ',self.name)\n",
    "        print('Salary of Employee is: ',self.salary)\n",
    "s1 = employee('Prerna',500000)\n",
    "s2 = employee('Pandey',600000)\n",
    "\n",
    "s1.displayemployee()\n",
    "s2.displayemployee()\n",
    "s1.display()\n"
   ]
  },
  {
   "cell_type": "markdown",
   "metadata": {},
   "source": [
    "+  ##### __init__() \n",
    "+ It is a special method of python which is called as class instructor or initialisation method that python calls when we create a new instamce of the class.\n",
    "+ ##### __Self__\n",
    "+ It represents the instance of the class.\n",
    "+ By using self keyword, We can access the attribut and methods of class in python. "
   ]
  },
  {
   "cell_type": "code",
   "execution_count": 4,
   "metadata": {},
   "outputs": [
    {
     "name": "stdout",
     "output_type": "stream",
     "text": [
      "Student Name is:  Prerna\n",
      "Roll number of Student is:  24\n",
      "Student class_id:  11\n",
      "Student Name is:  Pandey\n",
      "Roll number of Student is:  25\n",
      "Student class_id:  11\n",
      "Total number of student is :  2\n"
     ]
    }
   ],
   "source": [
    "### Write a program of class student with roll number, class\n",
    "class student:\n",
    "    student_count =0\n",
    "    def __init__(self,name,roll,class_id):\n",
    "        self.name = name\n",
    "        self.roll = roll\n",
    "        self.class_id = 11\n",
    "        student.student_count += 1\n",
    "    def display(self):\n",
    "        print('Total number of student is : ',student.student_count)\n",
    "        \n",
    "    def displaystudent(self):\n",
    "        print('Student Name is: ',self.name)\n",
    "        print('Roll number of Student is: ',self.roll)\n",
    "        print('Student class_id: ',self.class_id)\n",
    "s1 = student('Prerna',24,9)\n",
    "s2 = student('Pandey',25,8)\n",
    "\n",
    "s1.displaystudent()\n",
    "s2.displaystudent()\n",
    "s1.display()\n",
    "\n",
    "    "
   ]
  },
  {
   "cell_type": "markdown",
   "metadata": {},
   "source": [
    "##### Built-in class Attribute\n",
    "    + Every python class keep following built-in attribute and they can access using (.)dot operators like any othere operators.\n",
    "    + Example :- __dict__, __doc__,__name__, etc."
   ]
  },
  {
   "cell_type": "code",
   "execution_count": 6,
   "metadata": {},
   "outputs": [
    {
     "data": {
      "text/plain": [
       "mappingproxy({'__module__': '__main__',\n",
       "              'student_count': 2,\n",
       "              '__init__': <function __main__.student.__init__(self, name, roll, class_id)>,\n",
       "              'display': <function __main__.student.display(self)>,\n",
       "              'displaystudent': <function __main__.student.displaystudent(self)>,\n",
       "              '__dict__': <attribute '__dict__' of 'student' objects>,\n",
       "              '__weakref__': <attribute '__weakref__' of 'student' objects>,\n",
       "              '__doc__': None})"
      ]
     },
     "execution_count": 6,
     "metadata": {},
     "output_type": "execute_result"
    }
   ],
   "source": [
    "student.__dict__"
   ]
  },
  {
   "cell_type": "code",
   "execution_count": 7,
   "metadata": {},
   "outputs": [
    {
     "data": {
      "text/plain": [
       "'student'"
      ]
     },
     "execution_count": 7,
     "metadata": {},
     "output_type": "execute_result"
    }
   ],
   "source": [
    "student.__name__"
   ]
  },
  {
   "cell_type": "markdown",
   "metadata": {},
   "source": [
    "#### Garbage Collections\n",
    "     + Python deletes unneeded objects automatically to free the memory space. The process by which python periodically reclaims block of memory that is no longer are in used is known as Garbage collectio. In simple words, Garbage Collection means destroying objects"
   ]
  },
  {
   "cell_type": "code",
   "execution_count": 8,
   "metadata": {},
   "outputs": [],
   "source": [
    "a = 10 # Creation of object\n",
    "b = a  # increasing reference count of 10\n",
    "c = [b] # increasing reference count of 10\n",
    "\n",
    "del(a) # deleting  'a' object ,decreasing reference count of 10\n",
    "b = 500\n",
    "c[0] = 90\n"
   ]
  },
  {
   "cell_type": "code",
   "execution_count": 10,
   "metadata": {},
   "outputs": [
    {
     "name": "stdout",
     "output_type": "stream",
     "text": [
      "2373926017920 2373926017920 2373926017920\n",
      "point destoryed\n"
     ]
    }
   ],
   "source": [
    "class point:\n",
    "    def __init__(self,x=0,y=0):\n",
    "        self.x=x\n",
    "        self.y=y\n",
    "    def __del__(self):\n",
    "        class_name=self.__class__.__name__\n",
    "        print (class_name,\"destoryed\")\n",
    "\n",
    "p1=point()\n",
    "p2=p1\n",
    "p3=p2\n",
    "print( id(p1), id (p2), id (p3))\n",
    "del (p1)\n",
    "del (p2)\n",
    "del (p3)\n",
    "#print( id(p1), id (p2), id (p3))\n"
   ]
  },
  {
   "cell_type": "markdown",
   "metadata": {},
   "source": [
    "#### Difference between function and method\n"
   ]
  },
  {
   "cell_type": "markdown",
   "metadata": {},
   "source": [
    "+ function, free(free means not belong to an object or class)\n",
    "+ Method, m means member(A member of an object or class)\n",
    "+ Method related to object but funtion not.\n",
    "+ Function that are created inside the class are called Method."
   ]
  },
  {
   "cell_type": "markdown",
   "metadata": {},
   "source": [
    "##### Constructor \n",
    "+ It is a special type of method which is used to initialize the instance member of the class\n",
    "\n",
    "#### Creating a Constructor\n",
    "+ A constructor is a class function or method with (__)\n",
    "+ The name of constructor is always same as init.\n",
    "+ While creating a constructor,can accept an arguement if necessary.\n",
    "+ When we create a class in python then automatically create a default constructor that doesn't do anything. \n",
    "+ Every class must have a constructor even if it simply realise on the default constructor.\n",
    "\n",
    "\n",
    "#### Types of Constructor\n",
    "+ 1. Parameterized Constructor\n",
    "+ 2. Non- Parameterized Constructor"
   ]
  },
  {
   "cell_type": "code",
   "execution_count": 12,
   "metadata": {},
   "outputs": [
    {
     "name": "stdout",
     "output_type": "stream",
     "text": [
      "parmerterized constructor\n",
      "Hello !! Prerna\n"
     ]
    }
   ],
   "source": [
    "# parmerterized constructor\n",
    "\n",
    "class student:\n",
    "    def __init__(self, name):\n",
    "        print(\"parmerterized constructor\")\n",
    "        self.name=name\n",
    "    def show (self):\n",
    "        print(\"Hello !!\", self.name)\n",
    "        \n",
    "student=student('Prerna')\n",
    "student.show()\n"
   ]
  },
  {
   "cell_type": "code",
   "execution_count": 14,
   "metadata": {},
   "outputs": [
    {
     "name": "stdout",
     "output_type": "stream",
     "text": [
      "non_parmertrized constructor\n",
      "Hello !! Prerna\n"
     ]
    }
   ],
   "source": [
    "# non_parmertrized constructor\n",
    "\n",
    "class student:\n",
    "    def __init__(self):\n",
    "        print(\"non_parmertrized constructor\")\n",
    "    def show (self, name):\n",
    "        print(\"Hello !!\", name)\n",
    "        \n",
    "student=student()\n",
    "student.show('Prerna')\n"
   ]
  },
  {
   "cell_type": "markdown",
   "metadata": {},
   "source": [
    "#### Inheritance"
   ]
  },
  {
   "cell_type": "markdown",
   "metadata": {},
   "source": [
    "+ Inheritence is a feature of OOPS\n",
    "+ It specifies that one object aquire sum or all properties and behaviour of the Parent class.\n",
    "+ By using Inheritance, we can define a new class with a little change or no change to the existing class.\n",
    "+ The new class is known as child class or derived class\n",
    "+ The existing class is known as base class or Parent class."
   ]
  },
  {
   "cell_type": "code",
   "execution_count": 15,
   "metadata": {},
   "outputs": [
    {
     "name": "stdout",
     "output_type": "stream",
     "text": [
      "Animals eat \n",
      "Dog is barking\n"
     ]
    }
   ],
   "source": [
    "class animal:     # Parent class\n",
    "    def eat(self):\n",
    "        print(\"Animals eat \")\n",
    "\n",
    "class dog(animal):   # Child class, We are inheriting 'eat' property of animal by dog class\n",
    "    def bark(self):\n",
    "        print(\"Dog is barking\")\n",
    "        \n",
    "d = dog()\n",
    "d.eat()\n",
    "d.bark()\n"
   ]
  },
  {
   "cell_type": "markdown",
   "metadata": {},
   "source": [
    "#### Types of Inheritance\n",
    "+ Single Inheritance\n",
    "  + Single Inheritance is the simplest type of inheritance. In this inheritance there is only one parent class and one child class.\n",
    "+ Multiple Inheritance\n",
    "  + The inheritance when a class can be derived from more than one base class is known as multiple inheritance.\n",
    "+ Multilevel Inheritance\n",
    "  + The inheritance in which many labels are present is known as multilevel Inheritance.\n",
    "+ Hierarchical Inheritance\n",
    "  + Hierarichal inheritance there will be more than one child or derived class of the parent class.\n",
    "+ Hybrid Inheritance\n",
    "  + Hybrid Inheritance consist of multiple type of inheritance that is combination of different different inheritance."
   ]
  },
  {
   "cell_type": "code",
   "execution_count": 16,
   "metadata": {},
   "outputs": [
    {
     "name": "stdout",
     "output_type": "stream",
     "text": [
      "This is the parent class\n",
      "This is the Child class\n"
     ]
    }
   ],
   "source": [
    "# example of single inheritance\n",
    "class parent:\n",
    "    def fun1(self):\n",
    "        print(\"This is the parent class\")\n",
    "\n",
    "class child(parent):\n",
    "    def fun2(self):\n",
    "        print(\"This is the Child class\")\n",
    "o = child()\n",
    "o.fun1()\n",
    "o.fun2()\n"
   ]
  },
  {
   "cell_type": "code",
   "execution_count": 17,
   "metadata": {},
   "outputs": [
    {
     "name": "stdout",
     "output_type": "stream",
     "text": [
      "Father name is :  Your Fathers Name\n",
      "Mother  name is : Yours Mother Name\n"
     ]
    }
   ],
   "source": [
    "#### Multiple inheritance\n",
    "class mother:\n",
    "    mother_name = ''\n",
    "    def mother(self):\n",
    "        print(self.mother_name)\n",
    "\n",
    "class father:\n",
    "    father_name =''\n",
    "    def father(self):\n",
    "        print(self.father_name)\n",
    "        \n",
    "class child(mother,father):  # child inherit both mother and father class\n",
    "    def parent(self):\n",
    "        print(\"Father name is : \",self.father_name)\n",
    "        print(\"Mother  name is :\",self.mother_name)\n",
    "\n",
    "c = child()\n",
    "c.father_name = 'Your Fathers Name'\n",
    "c.mother_name = 'Yours Mother Name'\n",
    "c.parent()\n"
   ]
  },
  {
   "cell_type": "code",
   "execution_count": 18,
   "metadata": {},
   "outputs": [
    {
     "name": "stdout",
     "output_type": "stream",
     "text": [
      "animal eats\n",
      "Dog is barking\n",
      "pug is weeping\n"
     ]
    }
   ],
   "source": [
    "# multi level inhertance\n",
    "class animal:\n",
    "    def eat(self):\n",
    "        print(\"animal eats\")\n",
    "class dog(animal):\n",
    "    def bark(self):\n",
    "        print ('Dog is barking')\n",
    "class pug(dog):\n",
    "    def weep(self):\n",
    "        print('pug is weeping')\n",
    "d=pug()\n",
    "d.eat()\n",
    "d.bark()\n",
    "d.weep()\n"
   ]
  },
  {
   "cell_type": "code",
   "execution_count": 20,
   "metadata": {},
   "outputs": [
    {
     "name": "stdout",
     "output_type": "stream",
     "text": [
      "This function is in parent class.\n",
      "This function is in child 1.\n",
      "This function is in parent class.\n",
      "This function is in child 2.\n"
     ]
    }
   ],
   "source": [
    "# Hierarichal inhertance\n",
    "# Base class\n",
    "class Parent:\n",
    "    def func1(self):\n",
    "        print(\"This function is in parent class.\")\n",
    "\n",
    "# Derived class1\n",
    "class Child1(Parent):\n",
    "    def func2(self):\n",
    "        print(\"This function is in child 1.\")\n",
    "\n",
    "# Derivied class2\n",
    "class Child2(Parent):\n",
    "    def func3(self):\n",
    "        print(\"This function is in child 2.\")\n",
    "        \n",
    "# Driver's code\n",
    "object1 = Child1()\n",
    "object2 = Child2()\n",
    "object1.func1()\n",
    "object1.func2()\n",
    "object2.func1()\n",
    "object2.func3()\n",
    "\n"
   ]
  },
  {
   "cell_type": "code",
   "execution_count": 21,
   "metadata": {},
   "outputs": [
    {
     "name": "stdout",
     "output_type": "stream",
     "text": [
      "This function is in school.\n",
      "This function is in student 1. \n"
     ]
    }
   ],
   "source": [
    "class School:\n",
    "    def func1(self):\n",
    "        print(\"This function is in school.\")\n",
    "        \n",
    "class Student1(School):\n",
    "    def func2(self):\n",
    "        print(\"This function is in student 1. \")\n",
    "        \n",
    "class Student2(School):\n",
    "    def func3(self):\n",
    "        print(\"This function is in student 2.\")\n",
    "        \n",
    "class Student3(Student1,School):\n",
    "    def func4(self):\n",
    "        print(\"This function is in student 3.\")\n",
    "\n",
    "# Driver code        \n",
    "object = Student3()\n",
    "object.func1()\n",
    "object.func2()\n"
   ]
  },
  {
   "cell_type": "markdown",
   "metadata": {},
   "source": [
    "#### Polymorphism\n",
    "+ Polymorphism is made with words __Poly__ & __morphism__\n",
    "+ Poly means many, morphism means forms of shape\n",
    "+ It is defined that one task can perform in different ways."
   ]
  },
  {
   "cell_type": "code",
   "execution_count": 22,
   "metadata": {},
   "outputs": [
    {
     "name": "stdout",
     "output_type": "stream",
     "text": [
      "13\n"
     ]
    }
   ],
   "source": [
    "print(len('Prerna Pandey'))"
   ]
  },
  {
   "cell_type": "code",
   "execution_count": 25,
   "metadata": {},
   "outputs": [
    {
     "name": "stdout",
     "output_type": "stream",
     "text": [
      "5\n"
     ]
    }
   ],
   "source": [
    "print(len([1,2,3,4,5]))"
   ]
  },
  {
   "cell_type": "code",
   "execution_count": 27,
   "metadata": {},
   "outputs": [
    {
     "name": "stdout",
     "output_type": "stream",
     "text": [
      "Prerna\n",
      "Pandey\n"
     ]
    }
   ],
   "source": [
    "# polymorphism\n",
    "class hindi:\n",
    "    def analytics(self):\n",
    "        print(\"Prerna\")\n",
    "class french:\n",
    "    def analytics(self):\n",
    "        print(\"Pandey\")\n",
    "def intro(language):\n",
    "    language.analytics()\n",
    "    \n",
    "f=hindi()\n",
    "a=french()\n",
    "\n",
    "intro(f)\n",
    "intro(a)\n"
   ]
  },
  {
   "cell_type": "code",
   "execution_count": null,
   "metadata": {},
   "outputs": [],
   "source": []
  }
 ],
 "metadata": {
  "kernelspec": {
   "display_name": "Python 3",
   "language": "python",
   "name": "python3"
  },
  "language_info": {
   "codemirror_mode": {
    "name": "ipython",
    "version": 3
   },
   "file_extension": ".py",
   "mimetype": "text/x-python",
   "name": "python",
   "nbconvert_exporter": "python",
   "pygments_lexer": "ipython3",
   "version": "3.8.3"
  }
 },
 "nbformat": 4,
 "nbformat_minor": 4
}
